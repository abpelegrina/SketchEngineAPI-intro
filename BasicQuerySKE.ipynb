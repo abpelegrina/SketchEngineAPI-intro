{
  "nbformat": 4,
  "nbformat_minor": 0,
  "metadata": {
    "colab": {
      "name": "BasicQuerySKE.ipynb",
      "provenance": [],
      "collapsed_sections": [],
      "authorship_tag": "ABX9TyOrpREOzsBYlxV1J3tkFCCV",
      "include_colab_link": true
    },
    "kernelspec": {
      "name": "python3",
      "display_name": "Python 3"
    }
  },
  "cells": [
    {
      "cell_type": "markdown",
      "metadata": {
        "id": "view-in-github",
        "colab_type": "text"
      },
      "source": [
        "<a href=\"https://colab.research.google.com/github/abpelegrina/SketchEngineAPI-intro/blob/master/BasicQuerySKE.ipynb\" target=\"_parent\"><img src=\"https://colab.research.google.com/assets/colab-badge.svg\" alt=\"Open In Colab\"/></a>"
      ]
    },
    {
      "cell_type": "markdown",
      "metadata": {
        "id": "UpISPwkFxfa3",
        "colab_type": "text"
      },
      "source": [
        "#Manual de python para SKE\n"
      ]
    },
    {
      "cell_type": "markdown",
      "metadata": {
        "id": "tJzYpB8pyMtX",
        "colab_type": "text"
      },
      "source": [
        "Instalar los paquetes necesarios. Para ellos ejecuta el siguiente comando:"
      ]
    },
    {
      "cell_type": "code",
      "metadata": {
        "id": "GpDORr7PxeXG",
        "colab_type": "code",
        "outputId": "35363a8e-c4d5-4a95-eaf8-eca9b4fc9ee7",
        "colab": {
          "base_uri": "https://localhost:8080/",
          "height": 119
        }
      },
      "source": [
        "!pip install pandas numpy xlrd"
      ],
      "execution_count": 0,
      "outputs": [
        {
          "output_type": "stream",
          "text": [
            "Requirement already satisfied: pandas in /usr/local/lib/python3.6/dist-packages (1.0.3)\n",
            "Requirement already satisfied: numpy in /usr/local/lib/python3.6/dist-packages (1.18.2)\n",
            "Requirement already satisfied: xlrd in /usr/local/lib/python3.6/dist-packages (1.1.0)\n",
            "Requirement already satisfied: python-dateutil>=2.6.1 in /usr/local/lib/python3.6/dist-packages (from pandas) (2.8.1)\n",
            "Requirement already satisfied: pytz>=2017.2 in /usr/local/lib/python3.6/dist-packages (from pandas) (2018.9)\n",
            "Requirement already satisfied: six>=1.5 in /usr/local/lib/python3.6/dist-packages (from python-dateutil>=2.6.1->pandas) (1.12.0)\n"
          ],
          "name": "stdout"
        }
      ]
    },
    {
      "cell_type": "markdown",
      "metadata": {
        "id": "Gvptz97EyS0b",
        "colab_type": "text"
      },
      "source": [
        "Importamos los paquetes que vamos a usar:"
      ]
    },
    {
      "cell_type": "code",
      "metadata": {
        "id": "blDRSgZhyv2b",
        "colab_type": "code",
        "colab": {}
      },
      "source": [
        "import requests\n",
        "import pandas as pd\n",
        "import time\n",
        "import datetime"
      ],
      "execution_count": 0,
      "outputs": []
    },
    {
      "cell_type": "markdown",
      "metadata": {
        "id": "ofkBghN1yy90",
        "colab_type": "text"
      },
      "source": [
        "Asignamos los datos de acceso:"
      ]
    },
    {
      "cell_type": "code",
      "metadata": {
        "id": "gK41W8Tsy2n3",
        "colab_type": "code",
        "colab": {}
      },
      "source": [
        "USERNAME = ''\n",
        "API_KEY = ''"
      ],
      "execution_count": 0,
      "outputs": []
    },
    {
      "cell_type": "markdown",
      "metadata": {
        "id": "IU84En79y5wP",
        "colab_type": "text"
      },
      "source": [
        "Definimos el corpus:"
      ]
    },
    {
      "cell_type": "code",
      "metadata": {
        "id": "QLIppUBuy6Gd",
        "colab_type": "code",
        "colab": {}
      },
      "source": [
        "corpus = ''"
      ],
      "execution_count": 0,
      "outputs": []
    },
    {
      "cell_type": "markdown",
      "metadata": {
        "id": "Wcdg319TzC-r",
        "colab_type": "text"
      },
      "source": [
        "Definimos la URL para las consultas: "
      ]
    },
    {
      "cell_type": "code",
      "metadata": {
        "id": "43Cs1LJmzDZu",
        "colab_type": "code",
        "colab": {}
      },
      "source": [
        "base_url = 'https://api.sketchengine.eu/bonito/run.cgi'\n",
        "q = 'view'\n",
        "url = base_url + '/' + q + '?corpname=' + corpus"
      ],
      "execution_count": 0,
      "outputs": []
    },
    {
      "cell_type": "markdown",
      "metadata": {
        "id": "cm0Roz_szNeP",
        "colab_type": "text"
      },
      "source": [
        "Declaramos la consulta a realizar:"
      ]
    },
    {
      "cell_type": "code",
      "metadata": {
        "id": "y73Z2gY9zNpE",
        "colab_type": "code",
        "colab": {}
      },
      "source": [
        "query = '[tag!=\\\"N.*|JJ.*\\\"] [lemma=\\\"plastic\\\"] [lemma=\\\"water\\\"] [tag=\\\"JJ.*|N.*|RB.*|VVG.*|VVN.*\\\" & lemma!= \\\"bottle\\\"]* [tag=\\\"N.*\\\" & lemma!= \\\"bottle\\\"] within <s/>'"
      ],
      "execution_count": 0,
      "outputs": []
    },
    {
      "cell_type": "markdown",
      "metadata": {
        "id": "4bFXc7LEzN30",
        "colab_type": "text"
      },
      "source": [
        "Construimos los datos que vamos a enviar a SketchEngine"
      ]
    },
    {
      "cell_type": "code",
      "metadata": {
        "id": "Hv-Re7MMzOFY",
        "colab_type": "code",
        "colab": {}
      },
      "source": [
        "data = {\n",
        " 'format': 'json',\n",
        " 'q': ['q'+query],\n",
        " 'async': 0\n",
        "}"
      ],
      "execution_count": 0,
      "outputs": []
    },
    {
      "cell_type": "markdown",
      "metadata": {
        "id": "ctUX_S9EzOVZ",
        "colab_type": "text"
      },
      "source": [
        "Mandamos la consulta a SKE (tarda un poco...):"
      ]
    },
    {
      "cell_type": "code",
      "metadata": {
        "colab_type": "code",
        "id": "Hy-K31Bi18Ql",
        "colab": {}
      },
      "source": [
        "response = requests.get(url, params=data, auth=(USERNAME, API_KEY))"
      ],
      "execution_count": 0,
      "outputs": []
    },
    {
      "cell_type": "markdown",
      "metadata": {
        "id": "KiaV2z7j0AKD",
        "colab_type": "text"
      },
      "source": [
        "Comprobamos que la consulta se haya realizado con éxito y mostramos los resultados.\n",
        "\n",
        "\n",
        "Si se ha producido algún error al efectuar la consulta los mostramos por pantalla."
      ]
    },
    {
      "cell_type": "code",
      "metadata": {
        "id": "SQzt-WdJ0AeB",
        "colab_type": "code",
        "outputId": "79aebc62-237e-4b68-f565-ad459862cd92",
        "colab": {
          "base_uri": "https://localhost:8080/",
          "height": 122
        }
      },
      "source": [
        "if response:\n",
        "    # guardamos el resultado que nos ha\n",
        "    d = response.json()\n",
        "    \n",
        "    # Mostramos el resultado por pantalla. Esto se puede borrar para que se muestre\n",
        "    # solo la frecuencia\n",
        "    print('Resultado de la consulta:')\n",
        "    print(d)\n",
        "\n",
        "    # Devolvemos sólo el parámetro que contiene la frecuencia de la consulta\n",
        "    print('\\nFrecuencia de la consulta {' + query + '}: ')\n",
        "    print(d['fullsize'])\n",
        "\n",
        "# Si se produce algún error lo mostramos\n",
        "else:\n",
        "    print(response.text)\n",
        "    print(response.headers)"
      ],
      "execution_count": 0,
      "outputs": [
        {
          "output_type": "stream",
          "text": [
            "Resultado de la consulta:\n",
            "{'fullsize': 0, 'Lines': [], 'request': {'q': 'q[tag!=\"N.*|JJ.*\"] [lemma=\"plastic\"] [lemma=\"water\"] [tag=\"JJ.*|N.*|RB.*|VVG.*|VVN.*\" & lemma!= \"bottle\"]* [tag=\"N.*\" & lemma!= \"bottle\"] within <s/>', 'corpname': 'user/LRG00/eolica_en_melania', 'async': '0', 'format': 'json'}, 'finished': 1, 'async': 0, 'concsize': 0, 'api_version': '4.24.9', 'Desc': [{'nicearg': 'N.*|JJ.*, plastic, water, JJ.*|N.*|RB.*|VVG.*|VVN.*, bottle, N.*', 'tourl': 'q=q%5Btag%21%3D%22N.%2A%7CJJ.%2A%22%5D+%5Blemma%3D%22plastic%22%5D+%5Blemma%3D%22water%22%5D+%5Btag%3D%22JJ.%2A%7CN.%2A%7CRB.%2A%7CVVG.%2A%7CVVN.%2A%22+%26+lemma%21%3D+%22bottle%22%5D%2A+%5Btag%3D%22N.%2A%22+%26+lemma%21%3D+%22bottle%22%5D+within+%3Cs%2F%3E', 'rel': 0.0, 'arg': '[tag!=\"N.*|JJ.*\"] [lemma=\"plastic\"] [lemma=\"water\"] [tag=\"JJ.*|N.*|RB.*|VVG.*|VVN.*\" & lemma!= \"bottle\"]* [tag=\"N.*\" & lemma!= \"bottle\"] within <s/>', 'op': 'Query', 'size': 0}]}\n",
            "\n",
            "Frecuencia de la consulta {[tag!=\"N.*|JJ.*\"] [lemma=\"plastic\"] [lemma=\"water\"] [tag=\"JJ.*|N.*|RB.*|VVG.*|VVN.*\" & lemma!= \"bottle\"]* [tag=\"N.*\" & lemma!= \"bottle\"] within <s/>}: \n",
            "0\n"
          ],
          "name": "stdout"
        }
      ]
    },
    {
      "cell_type": "markdown",
      "metadata": {
        "id": "aKE5UEmZ03HQ",
        "colab_type": "text"
      },
      "source": [
        "Cambiamos la consulta para usar el parámetro filter-hits:"
      ]
    },
    {
      "cell_type": "code",
      "metadata": {
        "id": "7t8XgZZc06LX",
        "colab_type": "code",
        "colab": {}
      },
      "source": [
        "data = {\n",
        " 'format': 'json',\n",
        " 'q': ['q'+query,'D'], # Si no quieres el parámetro\n",
        " 'async': 0\n",
        "}\n"
      ],
      "execution_count": 0,
      "outputs": []
    },
    {
      "cell_type": "markdown",
      "metadata": {
        "id": "ehnVtPKb2Swf",
        "colab_type": "text"
      },
      "source": [
        "Repetimos la consulta y mostramos el número de resultados:"
      ]
    },
    {
      "cell_type": "code",
      "metadata": {
        "id": "xmBm-dxH2XWO",
        "colab_type": "code",
        "outputId": "df57e9ed-9094-4849-a1f7-b65537e58b1a",
        "colab": {
          "base_uri": "https://localhost:8080/",
          "height": 88
        }
      },
      "source": [
        "response = requests.get(url, params=data, auth=(USERNAME, API_KEY))\n",
        "if response:\n",
        "    # guardamos el resultado que nos ha\n",
        "    d = response.json()\n",
        "\n",
        "    # Devolvemos sólo el parámetro que contiene la frecuencia de la consulta\n",
        "    print('\\nFrecuencia de la consulta {' + query + '}: ')\n",
        "    print(d['fullsize'])\n",
        "\n",
        "# Si se produce algún error lo mostramos\n",
        "else:\n",
        "    print(response.text)\n",
        "    print(response.headers)"
      ],
      "execution_count": 0,
      "outputs": [
        {
          "output_type": "stream",
          "text": [
            "\n",
            "Frecuencia de la consulta {[tag!=\"N.*|JJ.*\"] [lemma=\"plastic\"] [lemma=\"water\"] [tag=\"JJ.*|N.*|RB.*|VVG.*|VVN.*\" & lemma!= \"bottle\"]* [tag=\"N.*\" & lemma!= \"bottle\"] within <s/>}: \n",
            "0\n"
          ],
          "name": "stdout"
        }
      ]
    },
    {
      "cell_type": "markdown",
      "metadata": {
        "id": "q64RJyZaFbFu",
        "colab_type": "text"
      },
      "source": [
        "\n",
        "\n",
        "Tiempo en segundos que hay que esperar entre consultas para no agotar la cuota diaria\n",
        "¡¡CAMBIAR SI VE VAN A HACER MUCHAS CONSULTAS!! Seguir esta guía:\n",
        "   - if you want to make fewer than 50 requests, time_to_sleep = 0\n",
        "   - if you want to make up to 900 requests, time_to_sleep = 4\n",
        "   - if you want to make more than 2000 requests, time_to_sleep = 44\n"
      ]
    },
    {
      "cell_type": "code",
      "metadata": {
        "id": "7qfNZc4lFeGi",
        "colab_type": "code",
        "colab": {}
      },
      "source": [
        "time_to_sleep = 0"
      ],
      "execution_count": 0,
      "outputs": []
    },
    {
      "cell_type": "markdown",
      "metadata": {
        "id": "UaecDnCkF17D",
        "colab_type": "text"
      },
      "source": [
        "Ahora vamos a abrir un fichero con unas pocas consultas\n"
      ]
    },
    {
      "cell_type": "code",
      "metadata": {
        "id": "rE-VCEoFFfDL",
        "colab_type": "code",
        "outputId": "97e8b480-2ed3-49f6-a99a-a609f2b06162",
        "colab": {
          "base_uri": "https://localhost:8080/",
          "height": 193
        }
      },
      "source": [
        "df = pd.read_excel('original.xlsx')\n",
        "df_res = df.copy()\n",
        "df.head()"
      ],
      "execution_count": 0,
      "outputs": [
        {
          "output_type": "execute_result",
          "data": {
            "text/html": [
              "<div>\n",
              "<style scoped>\n",
              "    .dataframe tbody tr th:only-of-type {\n",
              "        vertical-align: middle;\n",
              "    }\n",
              "\n",
              "    .dataframe tbody tr th {\n",
              "        vertical-align: top;\n",
              "    }\n",
              "\n",
              "    .dataframe thead th {\n",
              "        text-align: right;\n",
              "    }\n",
              "</style>\n",
              "<table border=\"1\" class=\"dataframe\">\n",
              "  <thead>\n",
              "    <tr style=\"text-align: right;\">\n",
              "      <th></th>\n",
              "      <th>p1</th>\n",
              "      <th>p2</th>\n",
              "      <th>p3</th>\n",
              "      <th>p1p2</th>\n",
              "      <th>p2p3</th>\n",
              "      <th>p1p3</th>\n",
              "    </tr>\n",
              "  </thead>\n",
              "  <tbody>\n",
              "    <tr>\n",
              "      <th>0</th>\n",
              "      <td>offshore</td>\n",
              "      <td>wind</td>\n",
              "      <td>farm</td>\n",
              "      <td>[tag!=\"JJ.*|N.*\"][lemma=\"offshore\"][lemma=\"win...</td>\n",
              "      <td>[tag!=\"JJ.*|N.*\"][lemma=\"wind\"][lemma=\"farm\"][...</td>\n",
              "      <td>[tag!=\"JJ.*|N.*\"][lemma=\"offshore\"][lemma=\"far...</td>\n",
              "    </tr>\n",
              "    <tr>\n",
              "      <th>1</th>\n",
              "      <td>tip</td>\n",
              "      <td>speed</td>\n",
              "      <td>ratio</td>\n",
              "      <td>[tag!=\"JJ.*|N.*\"][lemma=\"tip\"][lemma=\"speed\"][...</td>\n",
              "      <td>[tag!=\"JJ.*|N.*\"][lemma=\"speed\"][lemma=\"ratio\"...</td>\n",
              "      <td>[tag!=\"JJ.*|N.*\"][lemma=\"tip\"][lemma=\"ratio\"][...</td>\n",
              "    </tr>\n",
              "    <tr>\n",
              "      <th>2</th>\n",
              "      <td>wind</td>\n",
              "      <td>power</td>\n",
              "      <td>plant</td>\n",
              "      <td>[tag!=\"JJ.*|N.*\"][lemma=\"wind\"][lemma=\"power\"]...</td>\n",
              "      <td>[tag!=\"JJ.*|N.*\"][lemma=\"power\"][lemma=\"plant\"...</td>\n",
              "      <td>[tag!=\"JJ.*|N.*\"][lemma=\"wind\"][lemma=\"plant\"]...</td>\n",
              "    </tr>\n",
              "  </tbody>\n",
              "</table>\n",
              "</div>"
            ],
            "text/plain": [
              "         p1  ...                                               p1p3\n",
              "0  offshore  ...  [tag!=\"JJ.*|N.*\"][lemma=\"offshore\"][lemma=\"far...\n",
              "1       tip  ...  [tag!=\"JJ.*|N.*\"][lemma=\"tip\"][lemma=\"ratio\"][...\n",
              "2      wind  ...  [tag!=\"JJ.*|N.*\"][lemma=\"wind\"][lemma=\"plant\"]...\n",
              "\n",
              "[3 rows x 6 columns]"
            ]
          },
          "metadata": {
            "tags": []
          },
          "execution_count": 13
        }
      ]
    },
    {
      "cell_type": "markdown",
      "metadata": {
        "id": "kh6-gRsMF1MI",
        "colab_type": "text"
      },
      "source": [
        "Definimos las filas por las que vamos a comenzar y a terminar"
      ]
    },
    {
      "cell_type": "code",
      "metadata": {
        "id": "AhvfrO4FFs07",
        "colab_type": "code",
        "colab": {}
      },
      "source": [
        "# Empezamos las consultas desde la primera fila\n",
        "start = 0\n",
        "\n",
        "# Terminamos con la última fila\n",
        "end = df.shape[0]"
      ],
      "execution_count": 0,
      "outputs": []
    },
    {
      "cell_type": "markdown",
      "metadata": {
        "id": "GmdRBaoTF0ic",
        "colab_type": "text"
      },
      "source": [
        "Recorremos la tabla por filas, ejecutando la consulta de cada celda. Cuando terminemos mostramos el resultado por pantalla."
      ]
    },
    {
      "cell_type": "code",
      "metadata": {
        "id": "5XlCtUj2FvQl",
        "colab_type": "code",
        "outputId": "caedcc65-e1f5-4649-b38b-b35b15eabe8b",
        "colab": {
          "base_uri": "https://localhost:8080/",
          "height": 499
        }
      },
      "source": [
        "def getFrequency(query):\n",
        "\n",
        "    # Imprimimos por pantalla la consulta\n",
        "    print(query)\n",
        "    \n",
        "    # Información a enviar a SKE\n",
        "    data = {\n",
        "     'format': 'json',\n",
        "     # Eliminar \", 'D'\" si no se quiere usar el parámtro filter_hits\n",
        "     'q': ['q'+query,'D'],\n",
        "     'async': 0\n",
        "    }\n",
        "    \n",
        "    # Imprimimos el tiempo en el que se realiza la consulta\n",
        "    print(datetime.datetime.now().time())\n",
        "    \n",
        "    # Realizamos la consulta\n",
        "    response = requests.get(url, params=data, auth=(USERNAME, API_KEY))\n",
        "    \n",
        "    # Si la consulta a SKE se ha realizado con éxito\n",
        "    if response:\n",
        "            # Obtenemos el tiempo de consulta\n",
        "            elapsed = response.elapsed.total_seconds()\n",
        "            \n",
        "            # guardamos el resultado que nos ha\n",
        "            d = response.json()\n",
        "            \n",
        "            # Si la consulta ha durado menos que el tiempo de espera entre consultas \"dormimos\" la diferencia\n",
        "            if elapsed < time_to_sleep:\n",
        "                time.sleep(time_to_sleep-elapsed)\n",
        "                \n",
        "            # Devolvemos sólo el parámetro que contiene la frecuencia de la consulta\n",
        "            return d['fullsize']\n",
        "            \n",
        "    # Si se produce algún error devolvemos la consulta para que se mantenga la consulta\n",
        "    # en la celda\n",
        "    else:\n",
        "        print(response.text) # mostramos el error\n",
        "        print(response.headers) # mostramos el error\n",
        "        return query\n",
        "\n",
        "\n",
        "for index in range(start, end):\n",
        "    # Imprimimos por pantalla el número de la fila\n",
        "    print('Row Number : ', index)\n",
        "    \n",
        "    # Para cada celda de la fila (excluyendo las tres primeras que tienen sólo los términos)\n",
        "    # calculamos la frecuencia de la consulta y la guardamos\n",
        "    df_res.iloc[index, 3:] = df.iloc[index, 3:].apply(lambda x: getFrequency(x) )\n",
        "\n",
        "df_res.head()"
      ],
      "execution_count": 0,
      "outputs": [
        {
          "output_type": "stream",
          "text": [
            "Row Number :  0\n",
            "[tag!=\"JJ.*|N.*\"][lemma=\"offshore\"][lemma=\"wind\"][tag!=\"N.*|JJ.*\"] within <s/>\n",
            "18:55:38.403593\n",
            "[tag!=\"JJ.*|N.*\"][lemma=\"wind\"][lemma=\"farm\"][tag!=\"N.*|JJ.*\"] within <s/>\n",
            "18:55:39.159863\n",
            "[tag!=\"JJ.*|N.*\"][lemma=\"offshore\"][lemma=\"farm\"][tag!=\"N.*|JJ.*\"] within <s/>\n",
            "18:55:39.923579\n",
            "Row Number :  1\n",
            "[tag!=\"JJ.*|N.*\"][lemma=\"tip\"][lemma=\"speed\"][tag!=\"N.*|JJ.*\"] within <s/>\n",
            "18:55:40.650856\n",
            "[tag!=\"JJ.*|N.*\"][lemma=\"speed\"][lemma=\"ratio\"][tag!=\"N.*|JJ.*\"] within <s/>\n",
            "18:55:41.344519\n",
            "[tag!=\"JJ.*|N.*\"][lemma=\"tip\"][lemma=\"ratio\"][tag!=\"N.*|JJ.*\"] within <s/>\n",
            "18:55:42.116724\n",
            "Row Number :  2\n",
            "[tag!=\"JJ.*|N.*\"][lemma=\"wind\"][lemma=\"power\"][tag!=\"N.*|JJ.*\"] within <s/>\n",
            "18:55:42.838420\n",
            "[tag!=\"JJ.*|N.*\"][lemma=\"power\"][lemma=\"plant\"][tag!=\"N.*|JJ.*\"] within <s/>\n",
            "18:55:43.561859\n",
            "[tag!=\"JJ.*|N.*\"][lemma=\"wind\"][lemma=\"plant\"][tag!=\"N.*|JJ.*\"] within <s/>\n",
            "18:55:44.341639\n"
          ],
          "name": "stdout"
        },
        {
          "output_type": "execute_result",
          "data": {
            "text/html": [
              "<div>\n",
              "<style scoped>\n",
              "    .dataframe tbody tr th:only-of-type {\n",
              "        vertical-align: middle;\n",
              "    }\n",
              "\n",
              "    .dataframe tbody tr th {\n",
              "        vertical-align: top;\n",
              "    }\n",
              "\n",
              "    .dataframe thead th {\n",
              "        text-align: right;\n",
              "    }\n",
              "</style>\n",
              "<table border=\"1\" class=\"dataframe\">\n",
              "  <thead>\n",
              "    <tr style=\"text-align: right;\">\n",
              "      <th></th>\n",
              "      <th>p1</th>\n",
              "      <th>p2</th>\n",
              "      <th>p3</th>\n",
              "      <th>p1p2</th>\n",
              "      <th>p2p3</th>\n",
              "      <th>p1p3</th>\n",
              "    </tr>\n",
              "  </thead>\n",
              "  <tbody>\n",
              "    <tr>\n",
              "      <th>0</th>\n",
              "      <td>offshore</td>\n",
              "      <td>wind</td>\n",
              "      <td>farm</td>\n",
              "      <td>426</td>\n",
              "      <td>2648</td>\n",
              "      <td>29</td>\n",
              "    </tr>\n",
              "    <tr>\n",
              "      <th>1</th>\n",
              "      <td>tip</td>\n",
              "      <td>speed</td>\n",
              "      <td>ratio</td>\n",
              "      <td>39</td>\n",
              "      <td>19</td>\n",
              "      <td>1</td>\n",
              "    </tr>\n",
              "    <tr>\n",
              "      <th>2</th>\n",
              "      <td>wind</td>\n",
              "      <td>power</td>\n",
              "      <td>plant</td>\n",
              "      <td>2601</td>\n",
              "      <td>240</td>\n",
              "      <td>156</td>\n",
              "    </tr>\n",
              "  </tbody>\n",
              "</table>\n",
              "</div>"
            ],
            "text/plain": [
              "         p1     p2     p3  p1p2  p2p3 p1p3\n",
              "0  offshore   wind   farm   426  2648   29\n",
              "1       tip  speed  ratio    39    19    1\n",
              "2      wind  power  plant  2601   240  156"
            ]
          },
          "metadata": {
            "tags": []
          },
          "execution_count": 15
        }
      ]
    }
  ]
}